{
 "cells": [
  {
   "cell_type": "markdown",
   "metadata": {},
   "source": [
    "# Simultaneous localization and mapping\n",
    "\n",
    "Hi! I'm a problem set."
   ]
  },
  {
   "cell_type": "code",
   "execution_count": 1,
   "metadata": {},
   "outputs": [],
   "source": [
    "# Hi! I'm some code.\n",
    "\n",
    "import sys\n",
    "#!{sys.executable} -m pip install numpy scipy matplotlib\n",
    "\n",
    "import numpy"
   ]
  },
  {
   "cell_type": "code",
   "execution_count": 2,
   "metadata": {},
   "outputs": [],
   "source": [
    "# robot dynamics\n",
    "\n",
    "def rot_mat(theta):\n",
    "    return numpy.array([[numpy.cos(theta), -numpy.sin(theta)], [numpy.sin(theta), numpy.cos(theta)]])\n",
    "\n",
    "class Robot:\n",
    "    '''\n",
    "    .x: position x, y, theta (in *WORLD* frame, +x = \"to the right\", +theta = \"counterclockwise\", )\n",
    "    .u: requested velocity (in *ROBOT* frame, +x = \"forward\", robot starts pointing \"right\")\n",
    "    '''\n",
    "    def __init__(self):\n",
    "        self.x = numpy.array([[0], [0], [0]])\n",
    "        self.u = numpy.array([[0], [0], [0]])\n",
    "        \n",
    "    def pos(self):\n",
    "        return self.x[0:2]\n",
    "    \n",
    "    def theta(self):\n",
    "        return self.x[2][0]\n",
    "    \n",
    "    def dpos(self):\n",
    "        return self.u[0:2]\n",
    "    \n",
    "    def dtheta(self):\n",
    "        return self.u[2][0]\n",
    "    \n",
    "    def request_control(self, dx, dy, du):\n",
    "        '''alias for foo.u = u'''\n",
    "        self.u = numpy.array([[dx], [dy], [du]])\n",
    "        \n",
    "    def step(self, dt):\n",
    "        vel = numpy.dot(rot_mat(self.theta()), self.dpos()) * dt\n",
    "        \n",
    "        self.x = numpy.concatenate([\n",
    "            self.pos() + vel,\n",
    "            numpy.array([[self.theta() + self.dtheta() * dt]])\n",
    "        ])"
   ]
  },
  {
   "cell_type": "code",
   "execution_count": 5,
   "metadata": {},
   "outputs": [
    {
     "data": {
      "image/png": "[encoded data removed]",
      "text/plain": [
       "<Figure size 432x288 with 1 Axes>"
      ]
     },
     "metadata": {},
     "output_type": "display_data"
    }
   ],
   "source": [
    "# basic robot test\n",
    "\n",
    "%matplotlib inline\n",
    "\n",
    "import matplotlib\n",
    "import matplotlib.pyplot as plt\n",
    "\n",
    "dt = 0.1\n",
    "\n",
    "r = Robot()\n",
    "\n",
    "r.request_control(1, 0, 1)\n",
    "\n",
    "trace = r.pos()\n",
    "\n",
    "for i in range(100):\n",
    "    r.step(dt)\n",
    "    trace = numpy.concatenate([trace, r.pos()], 1)\n",
    "    \n",
    "plt.plot(trace[0], trace[1])\n",
    "plt.show()\n"
   ]
  }
 ],
 "metadata": {
  "kernelspec": {
   "display_name": "Python 3",
   "language": "python",
   "name": "python3"
  },
  "language_info": {
   "codemirror_mode": {
    "name": "ipython",
    "version": 3
   },
   "file_extension": ".py",
   "mimetype": "text/x-python",
   "name": "python",
   "nbconvert_exporter": "python",
   "pygments_lexer": "ipython3",
   "version": "3.5.2"
  }
 },
 "nbformat": 4,
 "nbformat_minor": 2
}
